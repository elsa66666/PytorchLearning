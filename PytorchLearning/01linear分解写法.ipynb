{
 "cells": [
  {
   "cell_type": "code",
   "execution_count": 1,
   "metadata": {},
   "outputs": [],
   "source": [
    "import torch\n",
    "import pandas as pd\n",
    "import numpy as np\n",
    "import matplotlib.pyplot as plt\n",
    "\n",
    "data = pd.read_csv('dataset/Income1.csv')\n",
    "x_values = data.Education.values.reshape(-1,1).astype(np.float32) #将x_values reshape成30个长度为1的数组\n",
    "y_values = data.Income.values.reshape(-1,1).astype(np.float32)\n",
    "\n",
    "X = torch.from_numpy(x_values) #x_values转化成输入所需的数据类型：tensor\n",
    "Y = torch.from_numpy(y_values) \n",
    "\n",
    "#初始化w和b\n",
    "w = torch.randn(1, requires_grad=True) \n",
    "b = torch.zeros(1, requires_grad=True)\n",
    "learning_rate = 0.0001"
   ]
  },
  {
   "cell_type": "code",
   "execution_count": 2,
   "metadata": {},
   "outputs": [],
   "source": [
    "for epoch in range(5000):\n",
    "    for x,y in zip(X,Y):\n",
    "        y_prediction = torch.matmul(w,x) + b       #使用模型预测\n",
    "        loss = (y - y_prediction).pow(2).mean() #根据预测结果计算损失（均方差）\n",
    "        if not w.grad is None:#变量梯度清0\n",
    "            w.grad.data.zero_()\n",
    "        if not b.grad is None:#变量梯度清0\n",
    "            b.grad.data.zero_()    \n",
    "        loss.backward()  #求解梯度\n",
    "        with torch.no_grad(): #优化模型参数\n",
    "            w.data -= w.grad.data*learning_rate\n",
    "            b.data -= b.grad.data*learning_rate                "
   ]
  },
  {
   "cell_type": "code",
   "execution_count": 3,
   "metadata": {},
   "outputs": [
    {
     "name": "stdout",
     "output_type": "stream",
     "text": [
      "w: tensor([4.9728], requires_grad=True)\n",
      "b: tensor([-28.3363], requires_grad=True)\n"
     ]
    }
   ],
   "source": [
    "print(\"w:\", w)\n",
    "print(\"b:\", b)"
   ]
  },
  {
   "cell_type": "code",
   "execution_count": 5,
   "metadata": {},
   "outputs": [
    {
     "data": {
      "text/plain": [
       "[<matplotlib.lines.Line2D at 0x19ef69ff730>]"
      ]
     },
     "execution_count": 5,
     "metadata": {},
     "output_type": "execute_result"
    },
    {
     "data": {
      "image/png": "[encoded data removed]",
      "text/plain": [
       "<Figure size 432x288 with 1 Axes>"
      ]
     },
     "metadata": {
      "needs_background": "light"
     },
     "output_type": "display_data"
    }
   ],
   "source": [
    "plt.scatter(data.Education, data.Income)\n",
    "plt.plot(X.numpy(), (X*w+b).data.numpy(), c=\"r\")"
   ]
  },
  {
   "cell_type": "code",
   "execution_count": null,
   "metadata": {},
   "outputs": [],
   "source": []
  }
 ],
 "metadata": {
  "kernelspec": {
   "display_name": "Python 3",
   "language": "python",
   "name": "python3"
  },
  "language_info": {
   "codemirror_mode": {
    "name": "ipython",
    "version": 3
   },
   "file_extension": ".py",
   "mimetype": "text/x-python",
   "name": "python",
   "nbconvert_exporter": "python",
   "pygments_lexer": "ipython3",
   "version": "3.8.3"
  }
 },
 "nbformat": 4,
 "nbformat_minor": 4
}
